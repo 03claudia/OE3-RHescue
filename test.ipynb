{
 "cells": [
  {
   "cell_type": "code",
   "execution_count": 5,
   "metadata": {},
   "outputs": [],
   "source": [
    "from enum import Enum\n",
    "\n",
    "\n",
    "Type = Enum(\"Type\", [\"DATE\", \"NUMBER\", \"TEXT\", \"MEASURER\", \"MEASURED\", \"QUESTIONS\"])"
   ]
  },
  {
   "cell_type": "code",
   "execution_count": 6,
   "metadata": {},
   "outputs": [],
   "source": [
    "import json\n",
    "\n",
    "\n",
    "class Layout:\n",
    "    \"\"\"\n",
    "        Caso, read_from_file seja True, o layout será lido do arquivo especificado em filepath.\n",
    "        Daí, o layout passa a especificar o caminho para o ficheiro a ser lido, assumindo que é\n",
    "        um ficheiro JSON.\n",
    "    \"\"\"\n",
    "    def __init__(self, read_layout_from_file: bool, layout: str, filepath: str) -> None:\n",
    "        self.layout = layout\n",
    "        content = self.__read_layout_from_file() if read_layout_from_file else layout\n",
    "        self.data = json.loads(content)\n",
    "        self.filepath = filepath\n",
    "\n",
    "    def get_data(self):\n",
    "        return self.data[\"layout\"]\n",
    "\n",
    "    def get_filepath(self):\n",
    "        return self.filepath\n",
    "    \n",
    "    def get_type(self, key: Type) -> list:\n",
    "        result = []\n",
    "        for row in self.get_data():\n",
    "            if row[\"type\"].lower() == key.name.lower():\n",
    "                result.append(row)\n",
    "            \n",
    "        return result\n",
    "    \n",
    "    def __read_layout_from_file(self):\n",
    "        try:\n",
    "            with open(self.layout, \"r\") as file:\n",
    "                return file.read()\n",
    "        except FileNotFoundError:\n",
    "            print(\"File not found.\")\n",
    "            exit(1)\n",
    "        except Exception as e:\n",
    "            print(e)\n",
    "            exit(1)\n",
    "\n",
    "layout_example = Layout(True, \"./layouts/exemplo.json\", \"./exemplos/Avaliacao-Membro-RH.xlsx\")"
   ]
  },
  {
   "cell_type": "code",
   "execution_count": 16,
   "metadata": {},
   "outputs": [
    {
     "name": "stdout",
     "output_type": "stream",
     "text": [
      "Label: O membro coopera com os seus colegas para alcançar objetivos comuns que tenham sido estabelecidos., Column Index: 2\n",
      "Label: O membro coopera com os seus colegas para alcançar objetivos comuns que tenham sido estabelecidos., Column Index: 3\n",
      "Label: O membro coopera com os seus colegas para alcançar objetivos comuns que tenham sido estabelecidos., Column Index: 4\n",
      "Label: O membro coopera com os seus colegas para alcançar objetivos comuns que tenham sido estabelecidos., Column Index: 5\n",
      "Label: O membro coopera com os seus colegas para alcançar objetivos comuns que tenham sido estabelecidos., Column Index: 6\n",
      "Label: O membro coopera com os seus colegas para alcançar objetivos comuns que tenham sido estabelecidos., Column Index: 7\n",
      "Label: O membro coopera com os seus colegas para alcançar objetivos comuns que tenham sido estabelecidos., Column Index: 8\n",
      "Label: O membro coopera com os seus colegas para alcançar objetivos comuns que tenham sido estabelecidos., Column Index: 9\n",
      "Label: O membro assume, em regra, objetivos ambiciosos e exigentes, embora realistas, para si e para os seus colegas., Column Index: 10\n",
      "Label: O membro assume, em regra, objetivos ambiciosos e exigentes, embora realistas, para si e para os seus colegas., Column Index: 11\n",
      "Label: O membro assume, em regra, objetivos ambiciosos e exigentes, embora realistas, para si e para os seus colegas., Column Index: 12\n",
      "Label: O membro assume, em regra, objetivos ambiciosos e exigentes, embora realistas, para si e para os seus colegas., Column Index: 13\n",
      "Label: O membro assume, em regra, objetivos ambiciosos e exigentes, embora realistas, para si e para os seus colegas., Column Index: 14\n",
      "Label: O membro assume, em regra, objetivos ambiciosos e exigentes, embora realistas, para si e para os seus colegas., Column Index: 15\n",
      "Label: O membro assume, em regra, objetivos ambiciosos e exigentes, embora realistas, para si e para os seus colegas., Column Index: 16\n",
      "Label: O membro assume, em regra, objetivos ambiciosos e exigentes, embora realistas, para si e para os seus colegas., Column Index: 17\n",
      "Label: O membro compromete-se com os resultados a alcançar de acordo com os objetivos estratégicos do departamento e júnior empresa, e é persistente perante obstáculos e dificuldades., Column Index: 18\n",
      "Label: O membro compromete-se com os resultados a alcançar de acordo com os objetivos estratégicos do departamento e júnior empresa, e é persistente perante obstáculos e dificuldades., Column Index: 19\n",
      "Label: O membro compromete-se com os resultados a alcançar de acordo com os objetivos estratégicos do departamento e júnior empresa, e é persistente perante obstáculos e dificuldades., Column Index: 20\n",
      "Label: O membro compromete-se com os resultados a alcançar de acordo com os objetivos estratégicos do departamento e júnior empresa, e é persistente perante obstáculos e dificuldades., Column Index: 21\n",
      "Label: O membro compromete-se com os resultados a alcançar de acordo com os objetivos estratégicos do departamento e júnior empresa, e é persistente perante obstáculos e dificuldades., Column Index: 22\n",
      "Label: O membro compromete-se com os resultados a alcançar de acordo com os objetivos estratégicos do departamento e júnior empresa, e é persistente perante obstáculos e dificuldades., Column Index: 23\n",
      "Label: O membro compromete-se com os resultados a alcançar de acordo com os objetivos estratégicos do departamento e júnior empresa, e é persistente perante obstáculos e dificuldades., Column Index: 24\n",
      "Label: O membro compromete-se com os resultados a alcançar de acordo com os objetivos estratégicos do departamento e júnior empresa, e é persistente perante obstáculos e dificuldades., Column Index: 25\n"
     ]
    }
   ],
   "source": [
    "import pandas as pd\n",
    "\n",
    "layout = layout_example.get_data()\n",
    "questions = layout_example.get_type(Type.QUESTIONS)[0]\n",
    "measured = layout_example.get_type(Type.MEASURED)[0]\n",
    "\n",
    "target_file = pd.read_excel(layout_example.get_filepath())\n",
    "\n",
    "result = []\n",
    "\n",
    "for question in questions[\"questions\"]:\n",
    "    label_to_find = question['label']\n",
    "\n",
    "    matching_columns = [col for col in target_file.columns if label_to_find in col]\n",
    "\n",
    "    if matching_columns:\n",
    "        for col_name in matching_columns:\n",
    "            col_index = target_file.columns.get_loc(col_name)\n",
    "            result.append((label_to_find, col_index))\n",
    "    else:\n",
    "        print(f\"No column matching label '{label_to_find}' found.\")\n",
    "\n",
    "for label, col_index in result:\n",
    "    print(f\"Label: {label}, Column Index: {col_index}\")\n",
    "\n"
   ]
  },
  {
   "cell_type": "code",
   "execution_count": 43,
   "metadata": {},
   "outputs": [
    {
     "name": "stdout",
     "output_type": "stream",
     "text": [
      "NUMBER\n",
      "NUMBER\n",
      "NUMBER\n",
      "NUMBER\n",
      "NUMBER\n",
      "NUMBER\n",
      "NUMBER\n",
      "NUMBER\n",
      "NUMBER\n",
      "NUMBER\n",
      "NUMBER\n",
      "OBSERVATION\n"
     ]
    }
   ],
   "source": [
    "import json\n",
    "\n",
    "file= open(\"./layouts/MK.json\", 'r', encoding=\"UTF-8\")\n",
    "\n",
    "\n",
    "data=json.loads(file.read())\n",
    "for i in data['layout']:\n",
    "    if 'QUESTIONS'== i['type']:\n",
    "        questoes=(i['questions'])\n",
    "        for j in questoes:\n",
    "            print(j['type'])\n",
    "\n",
    "\n",
    "\n",
    "\n",
    "\n",
    "\n"
   ]
  },
  {
   "cell_type": "code",
   "execution_count": null,
   "metadata": {},
   "outputs": [],
   "source": []
  },
  {
   "cell_type": "code",
   "execution_count": null,
   "metadata": {},
   "outputs": [],
   "source": [
    "\n"
   ]
  }
 ],
 "metadata": {
  "kernelspec": {
   "display_name": "Python 3",
   "language": "python",
   "name": "python3"
  },
  "language_info": {
   "codemirror_mode": {
    "name": "ipython",
    "version": 3
   },
   "file_extension": ".py",
   "mimetype": "text/x-python",
   "name": "python",
   "nbconvert_exporter": "python",
   "pygments_lexer": "ipython3",
   "version": "3.10.7"
  },
  "orig_nbformat": 4
 },
 "nbformat": 4,
 "nbformat_minor": 2
}
